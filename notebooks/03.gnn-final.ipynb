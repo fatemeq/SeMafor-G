{
 "cells": [
  {
   "cell_type": "code",
   "execution_count": 1,
   "id": "bd1718ea",
   "metadata": {},
   "outputs": [],
   "source": [
    "import os\n",
    "import json\n",
    "from tqdm.notebook import tqdm\n",
    "import pandas as pd\n",
    "from sklearn.model_selection import train_test_split"
   ]
  },
  {
   "cell_type": "code",
   "execution_count": 2,
   "id": "35cc8d02",
   "metadata": {},
   "outputs": [],
   "source": [
    "def get_doc_texts():\n",
    "    docs = {}\n",
    "\n",
    "    with open('../dataset/docs.json', 'r') as docs_file:\n",
    "        progress_bar = tqdm(total=os.path.getsize('../dataset/docs.json'), unit='B', unit_scale=True, unit_divisor=1024, desc='Loading docs') \n",
    "\n",
    "        for line in docs_file:\n",
    "            doc = json.loads(line)\n",
    "            docs[doc['id']] = doc['text']\n",
    "            \n",
    "            progress_bar.update(len(line))\n",
    "\n",
    "    return docs\n",
    "\n",
    "def get_dataset():\n",
    "    doc_texts = get_doc_texts()\n",
    "\n",
    "    docs_df = pd.read_csv(\"../dataset/docs.csv\").astype('string')\n",
    "\n",
    "    batch = []\n",
    "    for index, row in docs_df.iterrows():\n",
    "        if not row.doc1_id in doc_texts or not row.doc2_id in doc_texts:\n",
    "            continue\n",
    "\n",
    "        batch.append({\n",
    "            \"doc1\": {\n",
    "                \"id\": row.doc1_id,\n",
    "                \"text\": doc_texts[row.doc1_id]\n",
    "            },\n",
    "            \"doc2\": {\n",
    "                \"id\": row.doc2_id,\n",
    "                \"text\": doc_texts[row.doc2_id]\n",
    "            },\n",
    "            \"score\": float(row.score)\n",
    "        })\n",
    "\n",
    "    train, test = train_test_split(batch, test_size=0.2, random_state=42)\n",
    "    return train, test\n"
   ]
  },
  {
   "cell_type": "code",
   "execution_count": 4,
   "id": "f565e5a8",
   "metadata": {},
   "outputs": [
    {
     "data": {
      "application/vnd.jupyter.widget-view+json": {
       "model_id": "7a6729f3b58f448ebe306839586a9bdf",
       "version_major": 2,
       "version_minor": 0
      },
      "text/plain": [
       "HBox(children=(FloatProgress(value=0.0, description='Loading docs', max=45814862.0, style=ProgressStyle(descri…"
      ]
     },
     "metadata": {},
     "output_type": "display_data"
    },
    {
     "name": "stdout",
     "output_type": "stream",
     "text": [
      "\n",
      "num_nodes:  4320\n",
      "is unidirected:  True\n"
     ]
    }
   ],
   "source": [
    "doc_texts = get_doc_texts()\n",
    "\n",
    "docs_df = pd.read_csv(\"../dataset/docs.csv\").astype('string')\n",
    "\n",
    "batch = []\n",
    "for index, row in docs_df.iterrows():\n",
    "    if not row.doc1_id in doc_texts or not row.doc2_id in doc_texts:\n",
    "        continue\n",
    "\n",
    "    batch.append({\n",
    "        \"doc1\": {\n",
    "            \"id\": row.doc1_id,\n",
    "            \"text\": doc_texts[row.doc1_id]\n",
    "        },\n",
    "        \"doc2\": {\n",
    "            \"id\": row.doc2_id,\n",
    "            \"text\": doc_texts[row.doc2_id]\n",
    "        },\n",
    "        \"score\": float(row.score)\n",
    "    })\n",
    "\n",
    "data = batch\n",
    "nodes = {}\n",
    "\n",
    "for edge in data:\n",
    "    nodes[edge['doc1']['id']] = edge['doc1']['text']\n",
    "    nodes[edge['doc2']['id']] = edge['doc2']['text']\n",
    "\n",
    "node_id_to_index_map = {node: i for i, node in enumerate(nodes.keys())}\n",
    "\n",
    "print(\"num_nodes: \", len(nodes))\n",
    "\n",
    "edges = []\n",
    "\n",
    "for edge in data:\n",
    "    n1 = node_id_to_index_map[edge['doc1']['id']]\n",
    "    n2 = node_id_to_index_map[edge['doc2']['id']]\n",
    "    edges.append([n1, n2])\n",
    "    edges.append([n2, n1])\n",
    "\n",
    "edges_tensor = torch.tensor(edges, dtype=torch.long).t().contiguous()\n",
    "\n",
    "graph_data = Data(edge_index=edges_tensor, num_nodes=len(nodes))\n",
    "\n",
    "print('is unidirected: ', graph_data.is_undirected())\n",
    "\n"
   ]
  },
  {
   "cell_type": "code",
   "execution_count": 5,
   "id": "8fe35131",
   "metadata": {},
   "outputs": [
    {
     "data": {
      "text/plain": [
       "Data(edge_index=[2, 676466], num_nodes=4320)"
      ]
     },
     "execution_count": 5,
     "metadata": {},
     "output_type": "execute_result"
    }
   ],
   "source": [
    "graph_data"
   ]
  },
  {
   "cell_type": "code",
   "execution_count": 3,
   "id": "6cf88844",
   "metadata": {
    "scrolled": true
   },
   "outputs": [
    {
     "data": {
      "application/vnd.jupyter.widget-view+json": {
       "model_id": "df381a3e39e745d4b059288cb745d3e1",
       "version_major": 2,
       "version_minor": 0
      },
      "text/plain": [
       "HBox(children=(FloatProgress(value=0.0, description='Loading docs', max=45814862.0, style=ProgressStyle(descri…"
      ]
     },
     "metadata": {},
     "output_type": "display_data"
    },
    {
     "name": "stdout",
     "output_type": "stream",
     "text": [
      "\n"
     ]
    }
   ],
   "source": [
    "train, test = get_dataset()"
   ]
  },
  {
   "cell_type": "code",
   "execution_count": 4,
   "id": "e456bfef",
   "metadata": {},
   "outputs": [],
   "source": [
    "import os, sys\n",
    "sys.path.append(os.path.abspath('..'))"
   ]
  },
  {
   "cell_type": "code",
   "execution_count": 5,
   "id": "bb6efbe8",
   "metadata": {},
   "outputs": [],
   "source": [
    "from model.model import SemanticSimilarityModel"
   ]
  },
  {
   "cell_type": "code",
   "execution_count": 6,
   "id": "0d92a49f",
   "metadata": {},
   "outputs": [],
   "source": [
    "similarity_model = SemanticSimilarityModel()\n",
    "similarity_model.load('with_classifier')"
   ]
  },
  {
   "cell_type": "code",
   "execution_count": 7,
   "id": "1269ed32",
   "metadata": {},
   "outputs": [],
   "source": [
    "# node id to text dictionary\n",
    "nodes = {}\n",
    "\n",
    "for edge in train:\n",
    "    nodes[edge['doc1']['id']] = edge['doc1']['text']\n",
    "    nodes[edge['doc2']['id']] = edge['doc2']['text']"
   ]
  },
  {
   "cell_type": "code",
   "execution_count": 8,
   "id": "47db89df",
   "metadata": {
    "scrolled": false
   },
   "outputs": [
    {
     "name": "stdout",
     "output_type": "stream",
     "text": [
      "num_nodes:  4196\n"
     ]
    }
   ],
   "source": [
    "node_id_to_index_map = {node: i for i, node in enumerate(nodes.keys())}\n",
    "\n",
    "print(\"num_nodes: \", len(nodes))"
   ]
  },
  {
   "cell_type": "code",
   "execution_count": 3,
   "id": "9aa4129b",
   "metadata": {},
   "outputs": [],
   "source": [
    "import torch\n",
    "from torch_geometric.data import Data"
   ]
  },
  {
   "cell_type": "code",
   "execution_count": 10,
   "id": "a06ec07b",
   "metadata": {},
   "outputs": [],
   "source": [
    "edges = []\n",
    "\n",
    "for edge in train:\n",
    "    n1 = node_id_to_index_map[edge['doc1']['id']]\n",
    "    n2 = node_id_to_index_map[edge['doc2']['id']]\n",
    "    edges.append([n1, n2])\n",
    "    edges.append([n2, n1])\n",
    "\n",
    "edges_tensor = torch.tensor(edges, dtype=torch.long).t().contiguous()"
   ]
  },
  {
   "cell_type": "code",
   "execution_count": 11,
   "id": "c9e5b2a2",
   "metadata": {},
   "outputs": [
    {
     "name": "stdout",
     "output_type": "stream",
     "text": [
      "is unidirected:  True\n"
     ]
    },
    {
     "data": {
      "text/plain": [
       "Data(edge_index=[2, 541172], num_nodes=4196)"
      ]
     },
     "execution_count": 11,
     "metadata": {},
     "output_type": "execute_result"
    }
   ],
   "source": [
    "graph_data = Data(edge_index=edges_tensor, num_nodes=len(nodes))\n",
    "\n",
    "print('is unidirected: ', graph_data.is_undirected())\n",
    "graph_data"
   ]
  },
  {
   "cell_type": "code",
   "execution_count": 12,
   "id": "7f96a1f4",
   "metadata": {
    "scrolled": false
   },
   "outputs": [
    {
     "name": "stdout",
     "output_type": "stream",
     "text": [
      "is unidirected:  True\n"
     ]
    },
    {
     "data": {
      "text/plain": [
       "Data(edge_index=[2, 541172], num_nodes=4196)"
      ]
     },
     "execution_count": 12,
     "metadata": {},
     "output_type": "execute_result"
    }
   ],
   "source": [
    "graph_data = Data(edge_index=edges_tensor, num_nodes=len(nodes))\n",
    "\n",
    "print('is unidirected: ', graph_data.is_undirected())\n",
    "graph_data"
   ]
  },
  {
   "cell_type": "code",
   "execution_count": 13,
   "id": "e40164a4",
   "metadata": {},
   "outputs": [],
   "source": [
    "import pickle"
   ]
  },
  {
   "cell_type": "code",
   "execution_count": 14,
   "id": "2885135d",
   "metadata": {
    "scrolled": false
   },
   "outputs": [],
   "source": [
    "x = []\n",
    "\n",
    "def encode_x():\n",
    "    def encode(v):\n",
    "        e = similarity_model.encode(v)\n",
    "        padding_length = len(e[0]) - len(e[2])\n",
    "        pad = torch.zeros(padding_length)\n",
    "        e[2] = torch.cat((e[2], pad))\n",
    "        return torch.tensor(e)\n",
    "\n",
    "    for v in tqdm(nodes.values()):\n",
    "        x.append(encode(v))\n",
    "\n",
    "    with open(f'x', 'wb') as f:\n",
    "        pickle.dump(x, f)\n",
    "\n",
    "try:\n",
    "    with open(f'x', 'rb') as f:\n",
    "        x = pickle.load(f)\n",
    "except:\n",
    "    encode_x()"
   ]
  },
  {
   "cell_type": "code",
   "execution_count": 15,
   "id": "09e386c0",
   "metadata": {},
   "outputs": [],
   "source": [
    "x_tensor = torch.stack(x, dim=0)"
   ]
  },
  {
   "cell_type": "code",
   "execution_count": 16,
   "id": "e2184630",
   "metadata": {},
   "outputs": [],
   "source": [
    "graph_data.x = x_tensor.to(torch.float).reshape(-1, 3*768)"
   ]
  },
  {
   "cell_type": "code",
   "execution_count": 17,
   "id": "1b18de97",
   "metadata": {},
   "outputs": [
    {
     "data": {
      "text/plain": [
       "Data(edge_index=[2, 541172], num_nodes=4196, x=[4196, 2304])"
      ]
     },
     "execution_count": 17,
     "metadata": {},
     "output_type": "execute_result"
    }
   ],
   "source": [
    "graph_data"
   ]
  },
  {
   "cell_type": "code",
   "execution_count": 18,
   "id": "bfcb3be9",
   "metadata": {},
   "outputs": [],
   "source": [
    "import torch\n",
    "import torch.nn.functional as F\n",
    "from torch_geometric.nn import GCNConv, GraphConv\n",
    "from torch_geometric.utils import negative_sampling\n",
    "\n",
    "class GCN(torch.nn.Module):\n",
    "    def __init__(self, num_features, num_classes):\n",
    "        super(GCN, self).__init__()\n",
    "        self.conv1 = GCNConv(num_features, 1000)\n",
    "        self.conv2 = GCNConv(1000, 3000)\n",
    "        self.conv3 = GCNConv(3000, 1000)\n",
    "        self.conv4 = GCNConv(1000, num_classes)\n",
    "        self.dropout = torch.nn.Dropout(p=0.5)  # Create a dropout layer\n",
    "\n",
    "    def forward(self, x, edge_index):\n",
    "        x = F.relu(self.dropout(self.conv1(x, edge_index)))\n",
    "        x = F.relu(self.dropout(self.conv2(x, edge_index)))\n",
    "        x = F.relu(self.dropout(self.conv3(x, edge_index)))\n",
    "        x = self.conv4(x, edge_index)\n",
    "        return torch.sigmoid(x)\n",
    "\n",
    "\n",
    "model = GCN(num_features=2304, num_classes=1)"
   ]
  },
  {
   "cell_type": "code",
   "execution_count": 19,
   "id": "0a52931e",
   "metadata": {},
   "outputs": [
    {
     "name": "stdout",
     "output_type": "stream",
     "text": [
      "Epoch 1: Loss = 0.6930904388427734\n"
     ]
    }
   ],
   "source": [
    "def train_model(epochs = 1, t = None):\n",
    "    optimizer = torch.optim.Adam(params=model.parameters(), lr=0.001) \n",
    "    criterion = torch.nn.BCELoss()\n",
    "    loss_list = []\n",
    "\n",
    "    for epoch in range(epochs):\n",
    "        model.train()\n",
    "        optimizer.zero_grad()\n",
    "\n",
    "        # Forward pass for positive samples\n",
    "        pred_pos = model(graph_data.x, graph_data.edge_index).squeeze()\n",
    "    \n",
    "        # Predictions for negative samples\n",
    "        edge_index_neg = negative_sampling(graph_data.edge_index, num_nodes=graph_data.num_nodes, num_neg_samples=graph_data.edge_index.size(1))\n",
    "\n",
    "        pred_neg = model(graph_data.x, edge_index_neg).squeeze()\n",
    "\n",
    "        # Combine positive and negative predictions and create labels accordingly\n",
    "        pred_all = torch.cat([pred_pos, pred_neg], dim=0)\n",
    "        labels = torch.cat([torch.ones(pred_pos.size(0)), torch.zeros(pred_neg.size(0))], dim=0)\n",
    "\n",
    "        # Calculate loss, perform backpropagation, and update model parameters\n",
    "        loss = criterion(pred_all, labels)\n",
    "        loss.backward()\n",
    "        optimizer.step()\n",
    "        loss_list.append(loss.item())\n",
    "        \n",
    "        if t is None:            \n",
    "            print(f'Epoch {epoch+1}: Loss = {loss.item()}')\n",
    "        else:\n",
    "            print(f'Epoch {epoch+1}: Loss = {loss.item()} Test = {t()}')\n",
    "train_model()"
   ]
  },
  {
   "cell_type": "code",
   "execution_count": 20,
   "id": "6a471c99",
   "metadata": {},
   "outputs": [],
   "source": [
    "pred_pos = model(graph_data.x, graph_data.edge_index).squeeze()"
   ]
  },
  {
   "cell_type": "code",
   "execution_count": 21,
   "id": "607b24bc",
   "metadata": {},
   "outputs": [],
   "source": [
    "def transform_to_graph(data):\n",
    "    nodes = {}\n",
    "\n",
    "    for edge in data:\n",
    "        nodes[edge['doc1']['id']] = edge['doc1']['text']\n",
    "        nodes[edge['doc2']['id']] = edge['doc2']['text']\n",
    "\n",
    "    node_id_to_index_map = {node: i for i, node in enumerate(nodes.keys())}\n",
    "\n",
    "    print(\"num_nodes: \", len(nodes))\n",
    "    \n",
    "    edges = []\n",
    "\n",
    "    for edge in data:\n",
    "        n1 = node_id_to_index_map[edge['doc1']['id']]\n",
    "        n2 = node_id_to_index_map[edge['doc2']['id']]\n",
    "        edges.append([n1, n2])\n",
    "        edges.append([n2, n1])\n",
    "\n",
    "    edges_tensor = torch.tensor(edges, dtype=torch.long).t().contiguous()\n",
    "    \n",
    "    graph_data = Data(edge_index=edges_tensor, num_nodes=len(nodes))\n",
    "\n",
    "    print('is unidirected: ', graph_data.is_undirected())\n",
    "    \n",
    "    return graph_data, nodes"
   ]
  },
  {
   "cell_type": "code",
   "execution_count": 22,
   "id": "959052f1",
   "metadata": {},
   "outputs": [
    {
     "name": "stdout",
     "output_type": "stream",
     "text": [
      "num_nodes:  3531\n",
      "is unidirected:  True\n"
     ]
    }
   ],
   "source": [
    "test_graph_data, test_nodes = transform_to_graph(test)"
   ]
  },
  {
   "cell_type": "code",
   "execution_count": 23,
   "id": "7e0dbc2e",
   "metadata": {},
   "outputs": [],
   "source": [
    "def generate_x(nodes, t):\n",
    "    x = []\n",
    "\n",
    "    def encode_x():\n",
    "        def encode(v):\n",
    "            e = similarity_model.encode(v)\n",
    "            padding_length = len(e[0]) - len(e[2])\n",
    "            pad = torch.zeros(padding_length)\n",
    "            e[2] = torch.cat((e[2], pad))\n",
    "            return torch.tensor(e)\n",
    "\n",
    "        for v in tqdm(nodes.values()):\n",
    "            x.append(encode(v))\n",
    "\n",
    "        with open(f'x_{t}', 'wb') as f:\n",
    "            pickle.dump(x, f)\n",
    "\n",
    "    try:\n",
    "        with open(f'x_{t}', 'rb') as f:\n",
    "            x = pickle.load(f)\n",
    "\n",
    "        return x\n",
    "    \n",
    "    except:\n",
    "        encode_x()"
   ]
  },
  {
   "cell_type": "code",
   "execution_count": 24,
   "id": "14824cc8",
   "metadata": {},
   "outputs": [],
   "source": [
    "test_x = generate_x(test_nodes, 'test')"
   ]
  },
  {
   "cell_type": "code",
   "execution_count": 25,
   "id": "317ac9b4",
   "metadata": {},
   "outputs": [
    {
     "data": {
      "text/plain": [
       "Data(edge_index=[2, 270588], num_nodes=7062)"
      ]
     },
     "execution_count": 25,
     "metadata": {},
     "output_type": "execute_result"
    }
   ],
   "source": [
    "test_graph_data = test_graph_data.concat(test_graph_data)\n",
    "test_graph_data"
   ]
  },
  {
   "cell_type": "code",
   "execution_count": 26,
   "id": "e56b186a",
   "metadata": {},
   "outputs": [
    {
     "data": {
      "text/plain": [
       "torch.Size([7062, 2304])"
      ]
     },
     "execution_count": 26,
     "metadata": {},
     "output_type": "execute_result"
    }
   ],
   "source": [
    "test_x = torch.concat((torch.stack(test_x, dim=0), torch.stack(test_x, dim=0))).to(torch.float).reshape(-1, 3*768)\n",
    "test_x.shape"
   ]
  },
  {
   "cell_type": "code",
   "execution_count": 27,
   "id": "ea840bfb",
   "metadata": {},
   "outputs": [
    {
     "data": {
      "text/plain": [
       "Data(edge_index=[2, 270588], num_nodes=7062, edge_label=[7062], x=[7062, 2304])"
      ]
     },
     "execution_count": 27,
     "metadata": {},
     "output_type": "execute_result"
    }
   ],
   "source": [
    "test_graph_data.edge_label = torch.cat([torch.ones(len(test_x))], dim=0)\n",
    "test_graph_data.x = test_x\n",
    "test_graph_data"
   ]
  },
  {
   "cell_type": "code",
   "execution_count": 28,
   "id": "57fa6f6e",
   "metadata": {},
   "outputs": [],
   "source": [
    "from sklearn.metrics import roc_auc_score\n",
    "from sklearn.metrics import roc_curve, auc\n",
    "import matplotlib.pyplot as plt"
   ]
  },
  {
   "cell_type": "code",
   "execution_count": 29,
   "id": "822bea1e",
   "metadata": {},
   "outputs": [],
   "source": [
    "@torch.no_grad()\n",
    "def test_with_graph(graph_data):\n",
    "    model.eval()\n",
    "    pred_pos = model(graph_data.x, graph_data.edge_index).squeeze()\n",
    "    \n",
    "     # Predictions for negative samples\n",
    "    edge_index_neg = negative_sampling(graph_data.edge_index, num_nodes=graph_data.num_nodes, num_neg_samples=graph_data.edge_index.size(1))\n",
    "    pred_neg = model(graph_data.x, edge_index_neg).squeeze()\n",
    "\n",
    "    # Combine positive and negative predictions and create labels accordingly\n",
    "    pred_all = torch.cat([pred_pos, pred_neg], dim=0)\n",
    "    labels = torch.cat([torch.ones(pred_pos.size(0)), torch.zeros(pred_neg.size(0))], dim=0)\n",
    "\n",
    "    fpr, tpr, _ = roc_curve(labels, pred_all)\n",
    "    roc_auc = auc(fpr, tpr)\n",
    "\n",
    "    # Plot the ROC curve\n",
    "    plt.figure(figsize=(8, 6))\n",
    "    plt.plot(fpr, tpr, color='b', lw=2, label=f'Val AUC = {roc_auc:.4f}')\n",
    "    plt.plot([0, 1], [0, 1], color='gray', linestyle='--')\n",
    "    plt.xlim([0.0, 1.0])\n",
    "    plt.ylim([0.0, 1.05])\n",
    "    plt.xlabel('False Positive Rate')\n",
    "    plt.ylabel('True Positive Rate')\n",
    "    plt.title('Receiver Operating Characteristic (ROC) Curve')\n",
    "    plt.legend(loc='lower right')\n",
    "    plt.grid(True)\n",
    "    plt.show()\n",
    "    return roc_auc_score(labels, pred_all)"
   ]
  },
  {
   "cell_type": "code",
   "execution_count": 30,
   "id": "0c3cde85",
   "metadata": {},
   "outputs": [
    {
     "data": {
      "image/png": "[encoded data removed]",
      "text/plain": [
       "<Figure size 800x600 with 1 Axes>"
      ]
     },
     "metadata": {},
     "output_type": "display_data"
    },
    {
     "data": {
      "text/plain": [
       "0.7844182882028585"
      ]
     },
     "execution_count": 30,
     "metadata": {},
     "output_type": "execute_result"
    }
   ],
   "source": [
    "test_with_graph(test_graph_data)"
   ]
  },
  {
   "cell_type": "code",
   "execution_count": 31,
   "id": "08a3c707",
   "metadata": {},
   "outputs": [],
   "source": [
    "@torch.no_grad()\n",
    "def test_model(data):\n",
    "    model.eval()\n",
    "    pred_pos = model(graph_data.x, graph_data.edge_index).squeeze()\n",
    "    \n",
    "     # Predictions for negative samples\n",
    "    edge_index_neg = negative_sampling(graph_data.edge_index, num_nodes=graph_data.num_nodes, num_neg_samples=graph_data.edge_index.size(1))\n",
    "    pred_neg = model(graph_data.x, edge_index_neg).squeeze()\n",
    "\n",
    "    # Combine positive and negative predictions and create labels accordingly\n",
    "    pred_all = torch.cat([pred_pos, pred_neg], dim=0)\n",
    "    labels = torch.cat([torch.ones(pred_pos.size(0)), torch.zeros(pred_neg.size(0))], dim=0)\n",
    "\n",
    "    return roc_auc_score(labels, pred_all)"
   ]
  },
  {
   "cell_type": "code",
   "execution_count": 34,
   "id": "daa6ad72",
   "metadata": {},
   "outputs": [
    {
     "name": "stdout",
     "output_type": "stream",
     "text": [
      "Epoch 1: Loss = 0.8217870593070984 Test = 0.6186759701690565\n",
      "Epoch 2: Loss = 0.8433131575584412 Test = 0.5606029358842823\n",
      "Epoch 3: Loss = 0.7862846255302429 Test = 0.4242196424303504\n",
      "Epoch 4: Loss = 0.8430045247077942 Test = 0.5151604960373537\n",
      "Epoch 5: Loss = 0.662079930305481 Test = 0.5211482564083456\n",
      "Epoch 6: Loss = 0.6610845327377319 Test = 0.4292492009730998\n",
      "Epoch 7: Loss = 0.6279478073120117 Test = 0.44588745375549466\n",
      "Epoch 8: Loss = 0.6035243272781372 Test = 0.5300058512760348\n",
      "Epoch 9: Loss = 0.5907379984855652 Test = 0.4663955458055745\n",
      "Epoch 10: Loss = 0.5761097073554993 Test = 0.6267720244710792\n",
      "Epoch 11: Loss = 0.5557090640068054 Test = 0.8449207947829926\n",
      "Epoch 12: Loss = 0.5331160426139832 Test = 0.9428694914399387\n",
      "Epoch 13: Loss = 0.529288113117218 Test = 0.5179664049741867\n",
      "Epoch 14: Loss = 0.5391862988471985 Test = 0.8858570932323763\n",
      "Epoch 15: Loss = 0.5633498430252075 Test = 0.8413390891138777\n",
      "Epoch 16: Loss = 0.5937395095825195 Test = 0.9205941175080722\n",
      "Epoch 17: Loss = 0.528537392616272 Test = 0.9714200493729104\n",
      "Epoch 18: Loss = 0.5247957706451416 Test = 0.9926132609839504\n",
      "Epoch 19: Loss = 0.47028595209121704 Test = 0.9883105965461682\n",
      "Epoch 20: Loss = 0.44849082827568054 Test = 0.9851258484407048\n"
     ]
    }
   ],
   "source": [
    "def t():\n",
    "    return test_model(test_graph_data)\n",
    "train_model(20, t)\n"
   ]
  },
  {
   "cell_type": "code",
   "execution_count": 35,
   "id": "d9d8b3ac",
   "metadata": {},
   "outputs": [
    {
     "data": {
      "image/png": "[encoded data removed]",
      "text/plain": [
       "<Figure size 800x600 with 1 Axes>"
      ]
     },
     "metadata": {},
     "output_type": "display_data"
    },
    {
     "data": {
      "text/plain": [
       "0.9765530326089404"
      ]
     },
     "execution_count": 35,
     "metadata": {},
     "output_type": "execute_result"
    }
   ],
   "source": [
    "test_with_graph(test_graph_data)"
   ]
  },
  {
   "cell_type": "code",
   "execution_count": 37,
   "id": "6d0d1c77",
   "metadata": {},
   "outputs": [
    {
     "name": "stdout",
     "output_type": "stream",
     "text": [
      "Collecting torchviz\n",
      "  Downloading torchviz-0.0.2.tar.gz (4.9 kB)\n",
      "  Preparing metadata (setup.py) ... \u001b[?25ldone\n",
      "\u001b[?25hRequirement already satisfied: torch in /opt/anaconda3/lib/python3.9/site-packages (from torchviz) (2.1.2)\n",
      "Collecting graphviz\n",
      "  Downloading graphviz-0.20.3-py3-none-any.whl (47 kB)\n",
      "\u001b[2K     \u001b[38;2;114;156;31m━━━━━━━━━━━━━━━━━━━━━━━━━━━━━━━━━━━━━━━\u001b[0m \u001b[32m47.1/47.1 kB\u001b[0m \u001b[31m270.3 kB/s\u001b[0m eta \u001b[36m0:00:00\u001b[0mMB/s\u001b[0m eta \u001b[36m0:00:01\u001b[0m\n",
      "\u001b[?25hRequirement already satisfied: fsspec in /opt/anaconda3/lib/python3.9/site-packages (from torch->torchviz) (2022.7.1)\n",
      "Requirement already satisfied: jinja2 in /opt/anaconda3/lib/python3.9/site-packages (from torch->torchviz) (2.11.3)\n",
      "Requirement already satisfied: sympy in /opt/anaconda3/lib/python3.9/site-packages (from torch->torchviz) (1.10.1)\n",
      "Requirement already satisfied: filelock in /opt/anaconda3/lib/python3.9/site-packages (from torch->torchviz) (3.6.0)\n",
      "Requirement already satisfied: networkx in /opt/anaconda3/lib/python3.9/site-packages (from torch->torchviz) (2.8.4)\n",
      "Requirement already satisfied: typing-extensions in /opt/anaconda3/lib/python3.9/site-packages (from torch->torchviz) (4.3.0)\n",
      "Requirement already satisfied: MarkupSafe>=0.23 in /opt/anaconda3/lib/python3.9/site-packages (from jinja2->torch->torchviz) (2.0.1)\n",
      "Requirement already satisfied: mpmath>=0.19 in /opt/anaconda3/lib/python3.9/site-packages (from sympy->torch->torchviz) (1.2.1)\n",
      "Building wheels for collected packages: torchviz\n",
      "  Building wheel for torchviz (setup.py) ... \u001b[?25ldone\n",
      "\u001b[?25h  Created wheel for torchviz: filename=torchviz-0.0.2-py3-none-any.whl size=4131 sha256=cdc7d10e41f83fb0d53ead6ca07483a463bda90048601dd05216c24a00598e4b\n",
      "  Stored in directory: /Users/fateme/Library/Caches/pip/wheels/29/65/6e/db2515eb1dc760fecd36b40d54df65c1e18534013f1c037e2e\n",
      "Successfully built torchviz\n",
      "Installing collected packages: graphviz, torchviz\n",
      "Successfully installed graphviz-0.20.3 torchviz-0.0.2\n",
      "Note: you may need to restart the kernel to use updated packages.\n"
     ]
    }
   ],
   "source": [
    "pip install torchviz"
   ]
  },
  {
   "cell_type": "code",
   "execution_count": null,
   "id": "a636278c",
   "metadata": {},
   "outputs": [],
   "source": []
  },
  {
   "cell_type": "code",
   "execution_count": null,
   "id": "a0fc2842",
   "metadata": {},
   "outputs": [],
   "source": [
    "\n"
   ]
  },
  {
   "cell_type": "code",
   "execution_count": null,
   "id": "abbeed06",
   "metadata": {},
   "outputs": [],
   "source": []
  }
 ],
 "metadata": {
  "kernelspec": {
   "display_name": "Python 3 (ipykernel)",
   "language": "python",
   "name": "python3"
  },
  "language_info": {
   "codemirror_mode": {
    "name": "ipython",
    "version": 3
   },
   "file_extension": ".py",
   "mimetype": "text/x-python",
   "name": "python",
   "nbconvert_exporter": "python",
   "pygments_lexer": "ipython3",
   "version": "3.9.13"
  }
 },
 "nbformat": 4,
 "nbformat_minor": 5
}
