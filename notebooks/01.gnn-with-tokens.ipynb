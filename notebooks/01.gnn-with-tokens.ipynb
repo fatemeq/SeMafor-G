{
 "cells": [
  {
   "cell_type": "code",
   "execution_count": 1,
   "id": "bd1718ea",
   "metadata": {},
   "outputs": [],
   "source": [
    "import os\n",
    "import json\n",
    "from tqdm import tqdm\n",
    "import pandas as pd\n",
    "from sklearn.model_selection import train_test_split"
   ]
  },
  {
   "cell_type": "code",
   "execution_count": 2,
   "id": "35cc8d02",
   "metadata": {},
   "outputs": [],
   "source": [
    "def get_doc_texts():\n",
    "    docs = {}\n",
    "\n",
    "    with open('./dataset/docs.json', 'r') as docs_file:\n",
    "        progress_bar = tqdm(total=os.path.getsize('./dataset/docs.json'), unit='B', unit_scale=True, unit_divisor=1024, desc='Loading docs') \n",
    "\n",
    "        for line in docs_file:\n",
    "            doc = json.loads(line)\n",
    "            docs[doc['id']] = doc['text']\n",
    "            \n",
    "            progress_bar.update(len(line))\n",
    "\n",
    "    return docs\n",
    "\n",
    "def get_dataset():\n",
    "    doc_texts = get_doc_texts()\n",
    "\n",
    "    docs_df = pd.read_csv(\"./dataset/docs.csv\").astype('string')\n",
    "\n",
    "    batch = []\n",
    "    for index, row in docs_df.iterrows():\n",
    "        if not row.doc1_id in doc_texts or not row.doc2_id in doc_texts:\n",
    "            continue\n",
    "\n",
    "        batch.append({\n",
    "            \"doc1\": {\n",
    "                \"id\": row.doc1_id,\n",
    "                \"text\": doc_texts[row.doc1_id]\n",
    "            },\n",
    "            \"doc2\": {\n",
    "                \"id\": row.doc2_id,\n",
    "                \"text\": doc_texts[row.doc2_id]\n",
    "            },\n",
    "            \"score\": float(row.score)\n",
    "        })\n",
    "\n",
    "    train, test = train_test_split(batch, test_size=0.2, random_state=42)\n",
    "    return train, test\n"
   ]
  },
  {
   "cell_type": "code",
   "execution_count": 3,
   "id": "6cf88844",
   "metadata": {},
   "outputs": [
    {
     "name": "stderr",
     "output_type": "stream",
     "text": [
      "Loading docs: 100%|█████████████████████████| 43.7M/43.7M [00:00<00:00, 352MB/s]\n"
     ]
    }
   ],
   "source": [
    "train, test = get_dataset()"
   ]
  },
  {
   "cell_type": "code",
   "execution_count": 4,
   "id": "1269ed32",
   "metadata": {},
   "outputs": [],
   "source": [
    "pos_nodes = {}\n",
    "neg_nodes = {}\n",
    "\n",
    "for edge in train:\n",
    "    if edge['score'] > 0.5:\n",
    "        pos_nodes[edge['doc1']['id']] = edge['doc1']['text']\n",
    "        pos_nodes[edge['doc2']['id']] = edge['doc2']['text']\n",
    "    else:\n",
    "        neg_nodes[edge['doc1']['id']] = edge['doc1']['text']\n",
    "        neg_nodes[edge['doc2']['id']] = edge['doc2']['text']"
   ]
  },
  {
   "cell_type": "code",
   "execution_count": 5,
   "id": "47db89df",
   "metadata": {
    "scrolled": false
   },
   "outputs": [
    {
     "name": "stdout",
     "output_type": "stream",
     "text": [
      "pos num_nodes:  3458\n",
      "neg num_nodes:  2004\n"
     ]
    }
   ],
   "source": [
    "pos_node_id_to_index_map = {node: i for i, node in enumerate(pos_nodes.keys())}\n",
    "neg_node_id_to_index_map = {node: i for i, node in enumerate(neg_nodes.keys())}\n",
    "\n",
    "print(\"pos num_nodes: \", len(pos_nodes))\n",
    "print(\"neg num_nodes: \", len(neg_nodes))"
   ]
  },
  {
   "cell_type": "code",
   "execution_count": 6,
   "id": "9aa4129b",
   "metadata": {},
   "outputs": [],
   "source": [
    "import torch\n",
    "from torch_geometric.data import Data"
   ]
  },
  {
   "cell_type": "code",
   "execution_count": 7,
   "id": "a06ec07b",
   "metadata": {},
   "outputs": [],
   "source": [
    "pos_edges = []\n",
    "neg_edges = []\n",
    "\n",
    "for edge in train:\n",
    "\n",
    "    if edge['score'] > 0.5:\n",
    "        n1 = pos_node_id_to_index_map[edge['doc1']['id']]\n",
    "        n2 = pos_node_id_to_index_map[edge['doc2']['id']]\n",
    "        pos_edges.append([n1, n2])\n",
    "        pos_edges.append([n2, n1])\n",
    "    else:\n",
    "        n1 = neg_node_id_to_index_map[edge['doc1']['id']]\n",
    "        n2 = neg_node_id_to_index_map[edge['doc2']['id']]\n",
    "        neg_edges.append([n1, n2])\n",
    "        neg_edges.append([n2, n1])\n",
    "\n",
    "pos_edges_tensor = torch.tensor(pos_edges, dtype=torch.long).t().contiguous()\n",
    "neg_edges_tensor = torch.tensor(neg_edges, dtype=torch.long).t().contiguous()"
   ]
  },
  {
   "cell_type": "code",
   "execution_count": 8,
   "id": "c9e5b2a2",
   "metadata": {},
   "outputs": [
    {
     "name": "stdout",
     "output_type": "stream",
     "text": [
      "is unidirected:  True\n"
     ]
    },
    {
     "data": {
      "text/plain": [
       "Data(edge_index=[2, 14130], num_nodes=3458)"
      ]
     },
     "execution_count": 8,
     "metadata": {},
     "output_type": "execute_result"
    }
   ],
   "source": [
    "pos_graph_data = Data(edge_index=pos_edges_tensor, num_nodes=len(pos_nodes))\n",
    "\n",
    "print('is unidirected: ', pos_graph_data.is_undirected())\n",
    "pos_graph_data"
   ]
  },
  {
   "cell_type": "code",
   "execution_count": 9,
   "id": "7f96a1f4",
   "metadata": {},
   "outputs": [
    {
     "name": "stdout",
     "output_type": "stream",
     "text": [
      "is unidirected:  True\n"
     ]
    },
    {
     "data": {
      "text/plain": [
       "Data(edge_index=[2, 19274], num_nodes=2004)"
      ]
     },
     "execution_count": 9,
     "metadata": {},
     "output_type": "execute_result"
    }
   ],
   "source": [
    "neg_graph_data = Data(edge_index=neg_edges_tensor, num_nodes=len(neg_nodes))\n",
    "\n",
    "print('is unidirected: ', neg_graph_data.is_undirected())\n",
    "neg_graph_data"
   ]
  },
  {
   "cell_type": "code",
   "execution_count": 10,
   "id": "09e386c0",
   "metadata": {},
   "outputs": [],
   "source": [
    "from transformers import AutoTokenizer, AutoModel\n",
    "\n",
    "tokenizer = AutoTokenizer.from_pretrained('sentence-transformers/all-mpnet-base-v2')\n",
    "\n",
    "pos_x = []\n",
    "neg_x = []\n",
    "\n",
    "\n",
    "pos_x = encoded_input = tokenizer(list(pos_nodes.values()), truncation=True, padding=True, return_tensors='pt')\n",
    "\n",
    "neg_x = encoded_input = tokenizer(list(neg_nodes.values()), truncation=True, padding=True, return_tensors='pt')\n",
    "\n",
    "pos_graph_data.x = pos_x['input_ids'].to(torch.float)\n",
    "neg_graph_data.x = neg_x['input_ids'].to(torch.float)"
   ]
  },
  {
   "cell_type": "code",
   "execution_count": 11,
   "id": "1b18de97",
   "metadata": {},
   "outputs": [
    {
     "data": {
      "text/plain": [
       "Data(edge_index=[2, 14130], num_nodes=3458, x=[3458, 512])"
      ]
     },
     "execution_count": 11,
     "metadata": {},
     "output_type": "execute_result"
    }
   ],
   "source": [
    "pos_graph_data"
   ]
  },
  {
   "cell_type": "code",
   "execution_count": 12,
   "id": "d0331e3d",
   "metadata": {},
   "outputs": [
    {
     "data": {
      "text/plain": [
       "Data(edge_index=[2, 19274], num_nodes=2004, x=[2004, 512])"
      ]
     },
     "execution_count": 12,
     "metadata": {},
     "output_type": "execute_result"
    }
   ],
   "source": [
    "neg_graph_data"
   ]
  },
  {
   "cell_type": "code",
   "execution_count": 13,
   "id": "bfcb3be9",
   "metadata": {},
   "outputs": [],
   "source": [
    "import torch\n",
    "import torch.nn.functional as F\n",
    "from torch_geometric.nn import GCNConv, GraphConv\n",
    "from torch_geometric.utils import negative_sampling\n",
    "\n",
    "class GCN(torch.nn.Module):\n",
    "    def __init__(self, num_features, num_classes):\n",
    "        super(GCN, self).__init__()\n",
    "        self.conv1 = GCNConv(num_features, 1000)\n",
    "        self.conv2 = GCNConv(1000, 3000)\n",
    "        self.conv3 = GCNConv(3000, 1000)\n",
    "        self.conv4 = GCNConv(1000, num_classes)\n",
    "        \n",
    "    def forward(self, x, edge_index):\n",
    "        x = self.conv1(x, edge_index)\n",
    "        x = F.relu(x)\n",
    "        x = F.dropout(x, training=self.training)\n",
    "        \n",
    "        x = self.conv2(x, edge_index)\n",
    "        x = F.relu(x)\n",
    "        \n",
    "        x = self.conv3(x, edge_index)\n",
    "        x = F.relu(x)\n",
    "        \n",
    "        x = self.conv4(x, edge_index)\n",
    "        \n",
    "        return torch.sigmoid(x)\n",
    "\n",
    "model = GCN(num_features=512, num_classes=1)"
   ]
  },
  {
   "cell_type": "code",
   "execution_count": null,
   "id": "0a52931e",
   "metadata": {},
   "outputs": [
    {
     "name": "stdout",
     "output_type": "stream",
     "text": [
      "Epoch 1: Loss = 62.97243881225586\n",
      "Epoch 2: Loss = 63.310142517089844\n",
      "Epoch 3: Loss = 63.310142517089844\n",
      "Epoch 4: Loss = 63.310142517089844\n",
      "Epoch 5: Loss = 63.310142517089844\n",
      "Epoch 6: Loss = 63.310142517089844\n",
      "Epoch 7: Loss = 63.310142517089844\n",
      "Epoch 8: Loss = 63.310142517089844\n",
      "Epoch 9: Loss = 63.310142517089844\n",
      "Epoch 10: Loss = 63.310142517089844\n",
      "Epoch 11: Loss = 63.310142517089844\n",
      "Epoch 12: Loss = 63.310142517089844\n",
      "Epoch 13: Loss = 63.310142517089844\n",
      "Epoch 14: Loss = 63.310142517089844\n",
      "Epoch 15: Loss = 63.310142517089844\n",
      "Epoch 16: Loss = 63.310142517089844\n",
      "Epoch 17: Loss = 63.310142517089844\n",
      "Epoch 18: Loss = 63.310142517089844\n",
      "Epoch 19: Loss = 63.310142517089844\n",
      "Epoch 20: Loss = 63.310142517089844\n",
      "Epoch 21: Loss = 63.310142517089844\n",
      "Epoch 22: Loss = 63.310142517089844\n",
      "Epoch 23: Loss = 63.310142517089844\n",
      "Epoch 24: Loss = 63.310142517089844\n",
      "Epoch 25: Loss = 63.310142517089844\n",
      "Epoch 26: Loss = 63.310142517089844\n",
      "Epoch 27: Loss = 63.310142517089844\n",
      "Epoch 28: Loss = 63.310142517089844\n",
      "Epoch 29: Loss = 63.310142517089844\n",
      "Epoch 30: Loss = 63.310142517089844\n",
      "Epoch 31: Loss = 63.310142517089844\n",
      "Epoch 32: Loss = 63.310142517089844\n",
      "Epoch 33: Loss = 63.310142517089844\n",
      "Epoch 34: Loss = 63.310142517089844\n",
      "Epoch 35: Loss = 63.310142517089844\n",
      "Epoch 36: Loss = 63.310142517089844\n",
      "Epoch 37: Loss = 63.310142517089844\n",
      "Epoch 38: Loss = 63.310142517089844\n",
      "Epoch 39: Loss = 63.310142517089844\n",
      "Epoch 40: Loss = 63.310142517089844\n",
      "Epoch 41: Loss = 63.310142517089844\n",
      "Epoch 42: Loss = 63.310142517089844\n",
      "Epoch 43: Loss = 63.310142517089844\n",
      "Epoch 44: Loss = 63.310142517089844\n",
      "Epoch 45: Loss = 63.310142517089844\n",
      "Epoch 46: Loss = 63.310142517089844\n",
      "Epoch 47: Loss = 63.310142517089844\n",
      "Epoch 48: Loss = 63.310142517089844\n",
      "Epoch 49: Loss = 63.310142517089844\n",
      "Epoch 50: Loss = 63.310142517089844\n",
      "Epoch 51: Loss = 63.310142517089844\n",
      "Epoch 52: Loss = 63.310142517089844\n",
      "Epoch 53: Loss = 63.310142517089844\n",
      "Epoch 54: Loss = 63.310142517089844\n",
      "Epoch 55: Loss = 63.310142517089844\n",
      "Epoch 56: Loss = 63.310142517089844\n",
      "Epoch 57: Loss = 63.310142517089844\n"
     ]
    }
   ],
   "source": [
    "optimizer = torch.optim.Adam(model.parameters(), lr=0.01)\n",
    "criterion = torch.nn.BCELoss()\n",
    "loss_list = []\n",
    "\n",
    "for epoch in range(200):\n",
    "    model.train()\n",
    "    optimizer.zero_grad()\n",
    "\n",
    "    # Forward pass for positive samples\n",
    "    pred_pos = model(pos_graph_data.x, pos_graph_data.edge_index).squeeze()\n",
    "\n",
    "    # Predictions for negative samples\n",
    "    pred_neg = model(neg_graph_data.x, neg_graph_data.edge_index).squeeze()\n",
    "\n",
    "    # Combine positive and negative predictions and create labels accordingly\n",
    "    pred_all = torch.cat([pred_pos, pred_neg], dim=0)\n",
    "    labels = torch.cat([torch.ones(pred_pos.size(0)), torch.zeros(pred_neg.size(0))], dim=0)\n",
    "\n",
    "    # Calculate loss, perform backpropagation, and update model parameters\n",
    "    loss = criterion(pred_all, labels)\n",
    "    loss.backward()\n",
    "    optimizer.step()\n",
    "    loss_list.append(loss.item())\n",
    "    print(f'Epoch {epoch+1}: Loss = {loss.item()}')\n"
   ]
  },
  {
   "cell_type": "code",
   "execution_count": null,
   "id": "4e4f2f90",
   "metadata": {},
   "outputs": [],
   "source": []
  }
 ],
 "metadata": {
  "kernelspec": {
   "display_name": "Python 3 (ipykernel)",
   "language": "python",
   "name": "python3"
  },
  "language_info": {
   "codemirror_mode": {
    "name": "ipython",
    "version": 3
   },
   "file_extension": ".py",
   "mimetype": "text/x-python",
   "name": "python",
   "nbconvert_exporter": "python",
   "pygments_lexer": "ipython3",
   "version": "3.9.13"
  }
 },
 "nbformat": 4,
 "nbformat_minor": 5
}
