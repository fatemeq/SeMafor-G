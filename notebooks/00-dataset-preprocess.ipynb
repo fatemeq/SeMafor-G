{
 "cells": [
  {
   "cell_type": "code",
   "execution_count": 6,
   "id": "e94e52c7",
   "metadata": {},
   "outputs": [],
   "source": [
    "import os\n",
    "import json\n",
    "from tqdm.notebook import tqdm\n",
    "import pandas as pd"
   ]
  },
  {
   "cell_type": "code",
   "execution_count": 7,
   "id": "0e1c2439",
   "metadata": {},
   "outputs": [],
   "source": [
    "def get_ids():\n",
    "    docs = []\n",
    "\n",
    "    with open('../dataset/docs.json', 'r') as docs_file:\n",
    "        progress_bar = tqdm(total=os.path.getsize('../dataset/docs.json'), unit='B', unit_scale=True, unit_divisor=1024, desc='Loading docs') \n",
    "\n",
    "        for line in docs_file:\n",
    "            doc = json.loads(line)\n",
    "            docs.append(doc['id'])\n",
    "            \n",
    "            progress_bar.update(len(line))\n",
    "\n",
    "    return docs\n"
   ]
  },
  {
   "cell_type": "code",
   "execution_count": 8,
   "id": "efa8da03",
   "metadata": {},
   "outputs": [
    {
     "data": {
      "application/vnd.jupyter.widget-view+json": {
       "model_id": "9538aee89f8c4279a12a35506df4524e",
       "version_major": 2,
       "version_minor": 0
      },
      "text/plain": [
       "HBox(children=(FloatProgress(value=0.0, description='Loading docs', max=45814862.0, style=ProgressStyle(descri…"
      ]
     },
     "metadata": {},
     "output_type": "display_data"
    }
   ],
   "source": [
    "doc_ids = get_ids()\n",
    "docs = {}\n",
    "for d in doc_ids:\n",
    "    docs[d] = True"
   ]
  },
  {
   "cell_type": "code",
   "execution_count": 10,
   "id": "571f99f0",
   "metadata": {},
   "outputs": [
    {
     "data": {
      "application/vnd.jupyter.widget-view+json": {
       "model_id": "6c14056910cf4ac485c1f58e6f623bb7",
       "version_major": 2,
       "version_minor": 0
      },
      "text/plain": [
       "HBox(children=(FloatProgress(value=0.0, description='Extracting docs similarities', max=10566009865.0, style=P…"
      ]
     },
     "metadata": {},
     "output_type": "display_data"
    }
   ],
   "source": [
    "fpath = '../dataset/similar_docs.csv'\n",
    "\n",
    "pb = tqdm(total=os.path.getsize(fpath), unit='B', unit_scale=True, unit_divisor=1024, desc='Extracting docs similarities')\n",
    "\n",
    "similarities = []\n",
    "with open(fpath, 'r', encoding='utf-8') as s_f:\n",
    "    for line in s_f:\n",
    "        parts = list(map(lambda x: x.strip(), line.split(',')))\n",
    "        doc1_id = parts[0]\n",
    "        doc2_id = parts[1]\n",
    "        pb.update(len(line))\n",
    "        if doc1_id in docs and doc2_id in docs:\n",
    "            similarities.append({\n",
    "                \"doc1_id\": doc1_id,\n",
    "                \"doc2_id\": doc2_id,\n",
    "                \"score\": parts[2]\n",
    "            })"
   ]
  },
  {
   "cell_type": "code",
   "execution_count": 15,
   "id": "66d31d9f",
   "metadata": {},
   "outputs": [],
   "source": [
    "with open('../dataset/small_docs.csv', 'w', encoding='utf-8') as f:\n",
    "    f.write('doc1_id,doc2_id,score\\n')\n",
    "\n",
    "    for doc in similarities:\n",
    "        f.write(','.join([doc['doc1_id'],doc['doc2_id'], doc['score']]))\n",
    "        f.write('\\n')"
   ]
  },
  {
   "cell_type": "code",
   "execution_count": null,
   "id": "b9417ba6",
   "metadata": {},
   "outputs": [],
   "source": []
  }
 ],
 "metadata": {
  "kernelspec": {
   "display_name": "Python 3 (ipykernel)",
   "language": "python",
   "name": "python3"
  },
  "language_info": {
   "codemirror_mode": {
    "name": "ipython",
    "version": 3
   },
   "file_extension": ".py",
   "mimetype": "text/x-python",
   "name": "python",
   "nbconvert_exporter": "python",
   "pygments_lexer": "ipython3",
   "version": "3.9.13"
  }
 },
 "nbformat": 4,
 "nbformat_minor": 5
}
